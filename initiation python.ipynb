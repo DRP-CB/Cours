{
 "cells": [
  {
   "cell_type": "markdown",
   "metadata": {},
   "source": [
    "# Initiation à Python pour l'analyse de données"
   ]
  },
  {
   "cell_type": "markdown",
   "metadata": {},
   "source": [
    "## Formatage"
   ]
  },
  {
   "cell_type": "markdown",
   "metadata": {},
   "source": [
    "# Un titre de niveau 1\n",
    "Voici un peu de texte pour présenter un markdown\n",
    "## titre de niveau 2\n",
    "**Ceci** est très important\n",
    "## autre titre de niveau 2\n",
    "Mais *cela* également !\n",
    "\n",
    "pour plus d'infos sur le markdown \n",
    "\n",
    "https://guides.github.com/features/mastering-markdown/\n",
    "\n",
    "\n",
    "deux modes : \n",
    "- selection\n",
    "- écriture\n",
    "\n",
    "Lorsque que le curseur est dans la cellule on est en mode écriture\n",
    "- échap pour quitter le mode écriture\n",
    "- m passe en mode markdown\n",
    "- entrer pour repasser en mode écriture\n",
    "- y pour passer en cellule code"
   ]
  },
  {
   "cell_type": "markdown",
   "metadata": {},
   "source": [
    "## Variables"
   ]
  },
  {
   "cell_type": "markdown",
   "metadata": {},
   "source": [
    "Le nom d'une variable doit toujours être représentatif de son contenu"
   ]
  },
  {
   "cell_type": "markdown",
   "metadata": {},
   "source": [
    "compteEpargne  et  compteCourant  sont des noms bien plus explicites que  compte1  et  compte2"
   ]
  },
  {
   "cell_type": "markdown",
   "metadata": {},
   "source": [
    "Eviter les abbréviations, écrire en entier revenuAnnuel pluôt que revAnn"
   ]
  },
  {
   "cell_type": "markdown",
   "metadata": {},
   "source": [
    "Ecrire en camel case : premier mot en minuscule puis chaque première lettre de mot avec une majuscule"
   ]
  },
  {
   "cell_type": "markdown",
   "metadata": {},
   "source": [
    "### opérateurs"
   ]
  },
  {
   "cell_type": "markdown",
   "metadata": {},
   "source": [
    "// <- division entière (chiffre arrondit à l'inférieur)"
   ]
  },
  {
   "cell_type": "markdown",
   "metadata": {},
   "source": [
    "opérateur simplifié, fonctionne avec tous les opérateurs arithmétiques "
   ]
  },
  {
   "cell_type": "code",
   "execution_count": 3,
   "metadata": {},
   "outputs": [],
   "source": [
    "compteEpargne = 100\n",
    "# version explicite\n",
    "compteEpargne = compteEpargne + 100\n",
    "\n",
    "# équivalent à version courte :\n",
    "compteEpargne += 100"
   ]
  },
  {
   "cell_type": "markdown",
   "metadata": {},
   "source": [
    "### strings\n",
    "\n",
    "pour concaténer des variables numériques au milieu de strings, convertir les numériques avec string()"
   ]
  },
  {
   "cell_type": "markdown",
   "metadata": {},
   "source": [
    " Un des principes fondamentaux pour tout programmeur informatique est d’avoir un maximum de résultats pour un minimum d’efforts"
   ]
  },
  {
   "cell_type": "markdown",
   "metadata": {},
   "source": [
    "## Fonctions"
   ]
  },
  {
   "cell_type": "markdown",
   "metadata": {},
   "source": [
    "Les fonctions permettent de regrouper plusieurs instructions dnas un bloc qui sera appelé grâce à un nom."
   ]
  },
  {
   "cell_type": "markdown",
   "metadata": {},
   "source": [
    "Elles allègent le code et le rendent plus lisible"
   ]
  },
  {
   "cell_type": "markdown",
   "metadata": {},
   "source": [
    "Definition : valeur absolue :\n",
    "- la valeur absolue d'un chiffre est sa distance de zero sans tenir compte de son signe\n",
    "- la fonction abs() renvoie cette valeur"
   ]
  },
  {
   "cell_type": "markdown",
   "metadata": {},
   "source": [
    "Lors de l'écriture d'une fonction pas besoin de mettre l'output entre parenthèses de return. L'écrire devant l'output suffit"
   ]
  },
  {
   "cell_type": "markdown",
   "metadata": {},
   "source": [
    "## Programmation orientée objet\n",
    "\n",
    "Travailler avec des données complexes nous force à utiliser des classes et les objets qui leurs sont associés "
   ]
  },
  {
   "cell_type": "markdown",
   "metadata": {},
   "source": [
    "Une **Classe** est une catégorie d'objets. Elle permet de lister toutes les caractéristiques qui définissent un objet"
   ]
  },
  {
   "cell_type": "markdown",
   "metadata": {},
   "source": [
    "Exemple : \n",
    "- les voitures sont une classe\n",
    "- les voitures ont des paramètres variables qui les différencient les unes des autres comme la couleur ou la motorisation\n",
    "- la classe voiture définit ces paramètres\n",
    "- chaque objet de la classe voiture est une instance de cette classe avec des caractéristiques qui lui sont propres (rouge, 120ch)\n",
    "- on utilise une classe pour créer des objets\n",
    "- la classe est le plan et l'objet est ce qui est concrètement construit par ce plan"
   ]
  },
  {
   "cell_type": "markdown",
   "metadata": {},
   "source": [
    "- Les **caractéristiques** de la classe sont appelées **attributs**\n",
    "- Les **fonctionnalités** sont appelées **méthodes**\n",
    "- Les méthodes de classe sont des fonctions qui ne s'appliquent qu'aux instances d'une classe donnée"
   ]
  },
  {
   "cell_type": "markdown",
   "metadata": {},
   "source": [
    "L’utilisation d’une méthode est toujours réalisée via la notation  nomVariable.méthode(). Par exemple, les strings ont une méthode appelée  lower()"
   ]
  },
  {
   "cell_type": "markdown",
   "metadata": {},
   "source": [
    "### Méthodes de chaines de caractères"
   ]
  },
  {
   "cell_type": "markdown",
   "metadata": {},
   "source": [
    "    upper()  : retourne l’ensemble du texte en majuscules ;\n",
    "\n",
    "    capitalize()  : retourne l’ensemble du texte en minuscules avec la première lettre en majuscule ;\n",
    "\n",
    "    replace(old, new)  : cette méthode prend deux arguments. old correspond au(x) caractère(s) remplacé(s), new correspond au(x) caractère(s) remplaçant(s) ;\n",
    "\n",
    "    find(chaîne)  : retourne soit l’indice de la première occurrence de la chaîne passée en argument, soit -1 si elle ne la trouve pas."
   ]
  },
  {
   "cell_type": "markdown",
   "metadata": {},
   "source": [
    "## Listes"
   ]
  },
  {
   "cell_type": "code",
   "execution_count": 4,
   "metadata": {},
   "outputs": [
    {
     "name": "stdout",
     "output_type": "stream",
     "text": [
      "[7, 5]\n"
     ]
    }
   ],
   "source": [
    "liste = []\n",
    "liste.append(7)\n",
    "liste.append(5)\n",
    "print(liste) # => [7, 5]"
   ]
  },
  {
   "cell_type": "markdown",
   "metadata": {},
   "source": [
    "- insert  : pour insérer un nouvel élément à une position spécifique. Par exemple,  liste.insert(1, 12)  insérera l’entier 12 à l’indice 1, déplaçant l’ancien élément 1 à l’indice 2 et ainsi de suite ;\n",
    "\n",
    "- extend  : similaire à append, mais avec une autre liste. D’une certaine façon, cela permet de concaténer plusieurs listes ensemble ;\n",
    "\n",
    "- remove  : cherche l’élément donné dans la liste et supprime la première occurrence rencontrée. Par exemple, si vous souhaitez supprimer 5 de votre liste, vous pouvez utiliser :liste.remove(5);\n",
    "\n",
    "- index  : cette méthode permet de trouver l’indice de la première occurrence d’un élément à chercher dans notre liste ;\n",
    "\n",
    "- mot clé del  : pour supprimer un élément selon son indice."
   ]
  },
  {
   "cell_type": "code",
   "execution_count": 5,
   "metadata": {},
   "outputs": [],
   "source": [
    "liste = []\n",
    "liste.append(7) # -> [7]\n",
    "liste.append(5) # -> [7, 5]\n",
    "liste.insert(1,12) # [7, 12, 5]\n",
    "liste[0] = 4 # -> [4, 12, 5]\n",
    "liste.remove(12) # [4, 5]\n",
    "liste.index(5) # affiche 1\n",
    "liste.extend([1, 2, 3]) # [4, 5, 1, 2, 3]\n",
    "del liste[3] # [4, 5, 1, 3]"
   ]
  },
  {
   "cell_type": "markdown",
   "metadata": {},
   "source": [
    "## Dictionnaires\n",
    "Un dictionnaire est une liste d'élements non ordonnée organisée par un système de clés\n",
    "- Pour déclarer un dictionnaire :"
   ]
  },
  {
   "cell_type": "code",
   "execution_count": 3,
   "metadata": {},
   "outputs": [
    {
     "data": {
      "text/plain": [
       "5000"
      ]
     },
     "execution_count": 3,
     "metadata": {},
     "output_type": "execute_result"
    }
   ],
   "source": [
    "compteBancaire = {\"Jean\":5000,\"Albert\":2600}\n",
    "compteBancaire[\"Jean\"]"
   ]
  },
  {
   "cell_type": "markdown",
   "metadata": {},
   "source": [
    "### Manipulation d'éléments du dictionnaire"
   ]
  },
  {
   "cell_type": "code",
   "execution_count": 4,
   "metadata": {},
   "outputs": [
    {
     "data": {
      "text/plain": [
       "4800"
      ]
     },
     "execution_count": 4,
     "metadata": {},
     "output_type": "execute_result"
    }
   ],
   "source": [
    "compteBancaire['Jean'] -= 200 # soustrait 200 à la valeur du compte\n",
    "compteBancaire['Cyril'] = 5600 # Ajoute la valeur \"Cyril\" dans le dictionnaire\n",
    "compteBancaire.pop('Jean') # Efface la valeur 'Jean' du dictionnaire"
   ]
  },
  {
   "cell_type": "markdown",
   "metadata": {},
   "source": [
    "## Structures conditionnelles "
   ]
  },
  {
   "cell_type": "markdown",
   "metadata": {},
   "source": [
    "#### Fonction input\n",
    "permet de demander un input à l'utilisateur"
   ]
  },
  {
   "cell_type": "code",
   "execution_count": 6,
   "metadata": {},
   "outputs": [
    {
     "name": "stdin",
     "output_type": "stream",
     "text": [
      "Quel est votre nom ?  albert\n"
     ]
    }
   ],
   "source": [
    "nomUser = input('Quel est votre nom ?')"
   ]
  },
  {
   "cell_type": "markdown",
   "metadata": {},
   "source": [
    "### Opérateurs logiques\n",
    "- and = le résultat final est True lorsque toutes les expressions passées sont True\n",
    "- or = Le résultat final est True lorsqu'une des expressions passées est True\n",
    "- not() = Renvoie True lorsque l'expression entre parenthèses est False"
   ]
  },
  {
   "cell_type": "markdown",
   "metadata": {},
   "source": [
    "- in = renvoie True lorsque l'élément passé est dans la liste ou la string"
   ]
  },
  {
   "cell_type": "code",
   "execution_count": null,
   "metadata": {},
   "outputs": [],
   "source": [
    "maListe = [1,2,3]\n",
    "maString = 'un temps magnifique'\n",
    "print(1 in maListe)\n",
    "print(0 in maListe)\n",
    "\n",
    "print(\"u\" in maString)\n",
    "print(\"temps\" in maString)\n",
    "print('soleil' in maString)"
   ]
  },
  {
   "cell_type": "markdown",
   "metadata": {},
   "source": [
    "#### if elif else\n",
    "\n",
    "- if teste la première condition\n",
    "- elif teste une autre condition si celles du dessus n'ont pas été remplies (peut être répété plusieurs fois)\n",
    "- else execute des instructions si aucun des tests supra n'a été concluant"
   ]
  },
  {
   "cell_type": "code",
   "execution_count": 24,
   "metadata": {},
   "outputs": [
    {
     "name": "stdout",
     "output_type": "stream",
     "text": [
      "le compte va très bien\n"
     ]
    }
   ],
   "source": [
    "compte = 8000\n",
    "\n",
    "if compte < 100 :\n",
    "    print('le compte est bientôt vide')\n",
    "elif  compte < 600 and compte > 100 :\n",
    "    print('le compte est nominal')\n",
    "elif compte > 600 and compte < 1000 :\n",
    "    print('le compte va bien')\n",
    "else :\n",
    "    print('le compte va très bien')"
   ]
  },
  {
   "cell_type": "markdown",
   "metadata": {},
   "source": [
    "### Boucles"
   ]
  },
  {
   "cell_type": "code",
   "execution_count": 28,
   "metadata": {},
   "outputs": [
    {
     "name": "stdout",
     "output_type": "stream",
     "text": [
      "0\n",
      "1\n",
      "2\n",
      "3\n",
      "4\n",
      "5\n",
      "6\n",
      "7\n",
      "8\n",
      "9\n"
     ]
    }
   ],
   "source": [
    "for i in range(0,10,1): # début, fin, step\n",
    "    print(i)"
   ]
  },
  {
   "cell_type": "code",
   "execution_count": 30,
   "metadata": {},
   "outputs": [
    {
     "name": "stdout",
     "output_type": "stream",
     "text": [
      "1\n",
      "2\n",
      "3\n",
      "4\n",
      "5\n",
      "6\n",
      "7\n",
      "8\n",
      "9\n",
      "10\n"
     ]
    }
   ],
   "source": [
    "nbEssais = 0\n",
    "while nbEssais < 10 :\n",
    "    nbEssais += 1\n",
    "    print(nbEssais)"
   ]
  },
  {
   "cell_type": "markdown",
   "metadata": {},
   "source": [
    "### Importer des librairies\n",
    "\n",
    "- un module est un script contenant des classes, des fonctions et des variables\n",
    "- un package est un dossier contenant plusieurs scripts\n",
    "\n",
    "import package.module"
   ]
  },
  {
   "cell_type": "markdown",
   "metadata": {},
   "source": [
    "## Nombres aléatoires"
   ]
  },
  {
   "cell_type": "code",
   "execution_count": 31,
   "metadata": {},
   "outputs": [],
   "source": [
    "import random"
   ]
  },
  {
   "cell_type": "markdown",
   "metadata": {},
   "source": [
    "la fonction random() génère un nombre aléatoire compris entre 0 et 1 **non inclus**"
   ]
  },
  {
   "cell_type": "code",
   "execution_count": 32,
   "metadata": {},
   "outputs": [
    {
     "name": "stdout",
     "output_type": "stream",
     "text": [
      "0.20930973812897158\n",
      "0.45919714977154924\n",
      "0.6204267685927145\n"
     ]
    }
   ],
   "source": [
    "for i in range(3):\n",
    "    print(random.random())"
   ]
  },
  {
   "cell_type": "markdown",
   "metadata": {},
   "source": [
    "Pour générer un nombre aléatoire dans un **intervalle arbitraire** on utilise :\n",
    "- uniform(a,b) pour des floats\n",
    "- randint(a,b) pour des entiers"
   ]
  },
  {
   "cell_type": "code",
   "execution_count": 34,
   "metadata": {},
   "outputs": [
    {
     "name": "stdout",
     "output_type": "stream",
     "text": [
      "Exemple uniform\n",
      "6.703054607954513\n",
      "_______________\n",
      "Exemple randint\n",
      "7\n"
     ]
    }
   ],
   "source": [
    "print(\"Exemple uniform\")\n",
    "print(random.uniform(5,8))\n",
    "print(\"_______________\")\n",
    "print('Exemple randint')\n",
    "print(random.randint(5,8))"
   ]
  },
  {
   "cell_type": "markdown",
   "metadata": {},
   "source": [
    "Le module random permet aussi de générer des distributions aléatoires normales"
   ]
  },
  {
   "cell_type": "code",
   "execution_count": 36,
   "metadata": {},
   "outputs": [
    {
     "name": "stdout",
     "output_type": "stream",
     "text": [
      "-0.2518423091677945\n",
      "-0.763196572911446\n",
      "1.678696291273402\n",
      "-0.5660907952044518\n",
      "1.3033428647315337\n",
      "0.3869754286392766\n",
      "0.20665441404468993\n",
      "-0.6180895385149704\n",
      "0.0706970310284887\n",
      "2.0231447829207205\n"
     ]
    }
   ],
   "source": [
    "moyenne = 0\n",
    "ecartType = 1\n",
    "for i in range(10):\n",
    "    print(random.gauss(moyenne,ecartType))"
   ]
  },
  {
   "cell_type": "markdown",
   "metadata": {},
   "source": [
    "On peut choisir aléatoirement des éléments dans une liste"
   ]
  },
  {
   "cell_type": "code",
   "execution_count": 37,
   "metadata": {},
   "outputs": [
    {
     "name": "stdout",
     "output_type": "stream",
     "text": [
      "deux\n",
      "deux\n"
     ]
    }
   ],
   "source": [
    "listeChiffres = list([\"un\",\"deux\",\"trois\",\"quatre\"])\n",
    "for i in range(2):\n",
    "    print(random.choice(listeChiffres))"
   ]
  },
  {
   "cell_type": "markdown",
   "metadata": {},
   "source": [
    "Echantillon avec remise "
   ]
  },
  {
   "cell_type": "code",
   "execution_count": 40,
   "metadata": {},
   "outputs": [
    {
     "data": {
      "text/plain": [
       "['deux', 'deux']"
      ]
     },
     "execution_count": 40,
     "metadata": {},
     "output_type": "execute_result"
    }
   ],
   "source": [
    "random.choices(listeChiffres,k=2)"
   ]
  },
  {
   "cell_type": "markdown",
   "metadata": {},
   "source": [
    "Echantillon sans remise"
   ]
  },
  {
   "cell_type": "code",
   "execution_count": 41,
   "metadata": {},
   "outputs": [
    {
     "data": {
      "text/plain": [
       "['trois', 'un']"
      ]
     },
     "execution_count": 41,
     "metadata": {},
     "output_type": "execute_result"
    }
   ],
   "source": [
    "random.sample(listeChiffres,k=2)"
   ]
  },
  {
   "cell_type": "code",
   "execution_count": null,
   "metadata": {},
   "outputs": [],
   "source": []
  }
 ],
 "metadata": {
  "kernelspec": {
   "display_name": "Python 3",
   "language": "python",
   "name": "python3"
  },
  "language_info": {
   "codemirror_mode": {
    "name": "ipython",
    "version": 3
   },
   "file_extension": ".py",
   "mimetype": "text/x-python",
   "name": "python",
   "nbconvert_exporter": "python",
   "pygments_lexer": "ipython3",
   "version": "3.8.5"
  }
 },
 "nbformat": 4,
 "nbformat_minor": 4
}
